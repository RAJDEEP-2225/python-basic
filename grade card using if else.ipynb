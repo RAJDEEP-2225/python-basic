{
 "cells": [
  {
   "cell_type": "code",
   "execution_count": null,
   "id": "83213224-495f-48bb-a62f-c9e4f3de2fc2",
   "metadata": {},
   "outputs": [],
   "source": [
    "name=input(\"Enter your Name :\")\n",
    "age=int(input(\"Enter your Age:\"))\n",
    "stnd=int(input(\"Enter your class\"))\n",
    "sub1=int(input(\"Enter your marks in English:\"))\n",
    "sub2=int(input(\"Enter your marks in Hindi:\"))\n",
    "sub3=int(input(\"Enter your marks in Math:\"))\n",
    "sub4=int(input(\"Enter your marks in Science:\"))\n",
    "total_percentage=(sub1+sub2+sub3+sub4)/400*100\n",
    "print(\"==========Grade card=============\")\n",
    "print(f\"Name,{name}\")\n",
    "print(f\"Age,{age}\")\n",
    "print(f\"class,{stnd}\")\n",
    "print(f\"You have obtained ,{total_percentage}%\")\n",
    "if (total_percentage>40):\n",
    "    print(\"you are pass in your exam:\")\n",
    "else:\n",
    "    print(\"you were fail in your exam:\")\n",
    "print(\"========================================\")\n"
   ]
  }
 ],
 "metadata": {
  "kernelspec": {
   "display_name": "Python 3 (ipykernel)",
   "language": "python",
   "name": "python3"
  },
  "language_info": {
   "codemirror_mode": {
    "name": "ipython",
    "version": 3
   },
   "file_extension": ".py",
   "mimetype": "text/x-python",
   "name": "python",
   "nbconvert_exporter": "python",
   "pygments_lexer": "ipython3",
   "version": "3.13.3"
  }
 },
 "nbformat": 4,
 "nbformat_minor": 5
}
